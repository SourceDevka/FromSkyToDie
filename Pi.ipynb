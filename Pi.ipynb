{
 "cells": [
  {
   "cell_type": "code",
   "execution_count": 4,
   "metadata": {},
   "outputs": [
    {
     "ename": "TypeError",
     "evalue": "is_busy_decor() missing 1 required positional argument: 'func'",
     "output_type": "error",
     "traceback": [
      "\u001b[0;31m---------------------------------------------------------------------------\u001b[0m",
      "\u001b[0;31mTypeError\u001b[0m                                 Traceback (most recent call last)",
      "Cell \u001b[0;32mIn[4], line 1\u001b[0m\n\u001b[0;32m----> 1\u001b[0m \u001b[39mclass\u001b[39;00m \u001b[39mA\u001b[39;00m:\n\u001b[1;32m      2\u001b[0m     \u001b[39mdef\u001b[39;00m \u001b[39m__init__\u001b[39m(\u001b[39mself\u001b[39m) \u001b[39m-\u001b[39m\u001b[39m>\u001b[39m \u001b[39mNone\u001b[39;00m:\n\u001b[1;32m      3\u001b[0m         \u001b[39mself\u001b[39m\u001b[39m.\u001b[39misBusy \u001b[39m=\u001b[39m \u001b[39mFalse\u001b[39;00m\n",
      "Cell \u001b[0;32mIn[4], line 17\u001b[0m, in \u001b[0;36mA\u001b[0;34m()\u001b[0m\n\u001b[1;32m     13\u001b[0m         \u001b[39mreturn\u001b[39;00m res\n\u001b[1;32m     14\u001b[0m     \u001b[39mreturn\u001b[39;00m wrapper\n\u001b[1;32m     16\u001b[0m \u001b[39m@is_busy_decor\u001b[39;49m\n\u001b[0;32m---> 17\u001b[0m \u001b[39mdef\u001b[39;49;00m \u001b[39mp\u001b[39;49m():\n\u001b[1;32m     18\u001b[0m     \u001b[39mprint\u001b[39;49m(\u001b[39m\"\u001b[39;49m\u001b[39meeeee\u001b[39;49m\u001b[39m\"\u001b[39;49m)\n",
      "\u001b[0;31mTypeError\u001b[0m: is_busy_decor() missing 1 required positional argument: 'func'"
     ]
    }
   ],
   "source": [
    "\n",
    "class A:\n",
    "    def __init__(self) -> None:\n",
    "        self.isBusy = False\n",
    "\n",
    "    def is_busy_decor(self, func):\n",
    "        def wrapper(*args, **kwargs):\n",
    "            while self.isBusy:\n",
    "                pass\n",
    "\n",
    "            self.isBusy = True\n",
    "            res = func()\n",
    "            self.isBusy = False\n",
    "            return res\n",
    "        return wrapper\n",
    "    \n",
    "    @is_busy_decor\n",
    "    def p():\n",
    "        print(\"eeeee\")\n",
    "\n",
    "a = A()\n",
    "a.p()\n",
    "  \n",
    "\n",
    "                "
   ]
  }
 ],
 "metadata": {
  "kernelspec": {
   "display_name": "Python 3",
   "language": "python",
   "name": "python3"
  },
  "language_info": {
   "codemirror_mode": {
    "name": "ipython",
    "version": 3
   },
   "file_extension": ".py",
   "mimetype": "text/x-python",
   "name": "python",
   "nbconvert_exporter": "python",
   "pygments_lexer": "ipython3",
   "version": "3.8.10"
  },
  "orig_nbformat": 4
 },
 "nbformat": 4,
 "nbformat_minor": 2
}
